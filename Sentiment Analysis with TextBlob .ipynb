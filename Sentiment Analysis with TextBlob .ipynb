{
 "cells": [
  {
   "cell_type": "markdown",
   "metadata": {},
   "source": [
    "# SENTIMENT ANALYSIS "
   ]
  },
  {
   "cell_type": "markdown",
   "metadata": {},
   "source": [
    "- Suppose, you are the owner of a company that manufactures a product. You want to know how well your product is doing among the customers. So, you need to analyze the review and for that you need use Natural Language Processing. This is sentiment analysis to know about the performance of the product.\n",
    "\n",
    "- We look at the polarity score to understand the sentiment of a review. If the polarity score is 0, then it is neutral. If the polarity score is above 0, it is positive statement and score less than 0 it is negative.   "
   ]
  },
  {
   "cell_type": "markdown",
   "metadata": {},
   "source": []
  },
  {
   "cell_type": "code",
   "execution_count": 3,
   "metadata": {},
   "outputs": [],
   "source": [
    "import textblob \n",
    "from textblob import TextBlob"
   ]
  },
  {
   "cell_type": "code",
   "execution_count": 5,
   "metadata": {},
   "outputs": [],
   "source": [
    "# Reviews: \n",
    "Review1 = \"John is a wonderful professor. If you value your education and actively purse your coursework and especially come in to office hours, John will do his best to help you achieve your goals. If you don't care about your work don't bother taking a class with him, you'll be wasting his time and your education.\"\n",
    "Review2 = \"John's teaching is not bad. He is often interesting and engaging. However, he plays favorites to an extreme. He is extremely full of himself. He is also disrespectful to students, which earns him no respect in my book.\"\n",
    "Review3 = \"Ohhhhh John. He was my advisor before I transferred. Lets just say, he is part of the reason why I left. He is great as long as you are one of his favorites, sucks to be you if you aren't.\"\n",
    "Review4 = \"The whole point of COA is to blend disiplines, maybe you should go to UMO if you just want the basics. I think John is a great professor. If you work hard and try he will bend over backwards for you\"\n",
    "Review5 = \"Pompous, arrogant, boring... and these are his positive qualities.\""
   ]
  },
  {
   "cell_type": "code",
   "execution_count": 6,
   "metadata": {},
   "outputs": [],
   "source": [
    "# Models \n",
    "model1 = TextBlob(Review1) #5.0 Actual review by the student \n",
    "model2 = TextBlob(Review2) #2.0 Actual review by the student \n",
    "model3 = TextBlob(Review3) #1.0 Actual review by the student \n",
    "model4 = TextBlob(Review4) #4.5 Actual review by the student \n",
    "model5 = TextBlob(Review5) #1.0 Actual review by the student "
   ]
  },
  {
   "cell_type": "code",
   "execution_count": 18,
   "metadata": {},
   "outputs": [
    {
     "name": "stdout",
     "output_type": "stream",
     "text": [
      "1 Sentiment(polarity=0.4666666666666667, subjectivity=0.725)\n",
      "2 Sentiment(polarity=0.29500000000000004, subjectivity=0.6833333333333332)\n",
      "3 Sentiment(polarity=0.1125, subjectivity=0.3625)\n",
      "4 Sentiment(polarity=0.23611111111111108, subjectivity=0.5638888888888888)\n",
      "5 Sentiment(polarity=-0.38636363636363635, subjectivity=0.7727272727272727)\n"
     ]
    }
   ],
   "source": [
    "# Polarity and sujectivity results \n",
    "print ('1',model1.sentiment)\n",
    "print ('2',model2.sentiment)\n",
    "print ('3',model3.sentiment)\n",
    "print ('4',model4.sentiment)\n",
    "print ('5',model5.sentiment)"
   ]
  }
 ],
 "metadata": {
  "kernelspec": {
   "display_name": "Python 3",
   "language": "python",
   "name": "python3"
  },
  "language_info": {
   "codemirror_mode": {
    "name": "ipython",
    "version": 3
   },
   "file_extension": ".py",
   "mimetype": "text/x-python",
   "name": "python",
   "nbconvert_exporter": "python",
   "pygments_lexer": "ipython3",
   "version": "3.7.0"
  }
 },
 "nbformat": 4,
 "nbformat_minor": 2
}
